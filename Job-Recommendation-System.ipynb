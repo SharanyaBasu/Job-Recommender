{
 "cells": [
  {
   "cell_type": "code",
   "execution_count": 640,
   "id": "2aa6235f",
   "metadata": {},
   "outputs": [],
   "source": [
    "import numpy as np\n",
    "import pandas as pd"
   ]
  },
  {
   "cell_type": "code",
   "execution_count": 641,
   "id": "560a79ae",
   "metadata": {},
   "outputs": [
    {
     "data": {
      "text/html": [
       "<div>\n",
       "<style scoped>\n",
       "    .dataframe tbody tr th:only-of-type {\n",
       "        vertical-align: middle;\n",
       "    }\n",
       "\n",
       "    .dataframe tbody tr th {\n",
       "        vertical-align: top;\n",
       "    }\n",
       "\n",
       "    .dataframe thead th {\n",
       "        text-align: right;\n",
       "    }\n",
       "</style>\n",
       "<table border=\"1\" class=\"dataframe\">\n",
       "  <thead>\n",
       "    <tr style=\"text-align: right;\">\n",
       "      <th></th>\n",
       "      <th>Job.ID</th>\n",
       "      <th>Provider</th>\n",
       "      <th>Status</th>\n",
       "      <th>Slug</th>\n",
       "      <th>Title</th>\n",
       "      <th>Position</th>\n",
       "      <th>Company</th>\n",
       "      <th>City</th>\n",
       "      <th>State.Name</th>\n",
       "      <th>State.Code</th>\n",
       "      <th>...</th>\n",
       "      <th>Industry</th>\n",
       "      <th>Job.Description</th>\n",
       "      <th>Requirements</th>\n",
       "      <th>Salary</th>\n",
       "      <th>Listing.Start</th>\n",
       "      <th>Listing.End</th>\n",
       "      <th>Employment.Type</th>\n",
       "      <th>Education.Required</th>\n",
       "      <th>Created.At</th>\n",
       "      <th>Updated.At</th>\n",
       "    </tr>\n",
       "  </thead>\n",
       "  <tbody>\n",
       "    <tr>\n",
       "      <th>0</th>\n",
       "      <td>111</td>\n",
       "      <td>1</td>\n",
       "      <td>open</td>\n",
       "      <td>palo-alto-ca-tacolicious-server</td>\n",
       "      <td>Server @ Tacolicious</td>\n",
       "      <td>Server</td>\n",
       "      <td>Tacolicious</td>\n",
       "      <td>Palo Alto</td>\n",
       "      <td>California</td>\n",
       "      <td>CA</td>\n",
       "      <td>...</td>\n",
       "      <td>Food and Beverages</td>\n",
       "      <td>Tacolicious' first Palo Alto store just opened...</td>\n",
       "      <td>NaN</td>\n",
       "      <td>8.0</td>\n",
       "      <td>NaN</td>\n",
       "      <td>NaN</td>\n",
       "      <td>Part-Time</td>\n",
       "      <td>NaN</td>\n",
       "      <td>2013-03-12 02:08:28 UTC</td>\n",
       "      <td>2014-08-16 15:35:36 UTC</td>\n",
       "    </tr>\n",
       "    <tr>\n",
       "      <th>1</th>\n",
       "      <td>113</td>\n",
       "      <td>1</td>\n",
       "      <td>open</td>\n",
       "      <td>san-francisco-ca-claude-lane-kitchen-staff-chef</td>\n",
       "      <td>Kitchen Staff/Chef @ Claude Lane</td>\n",
       "      <td>Kitchen Staff/Chef</td>\n",
       "      <td>Claude Lane</td>\n",
       "      <td>San Francisco</td>\n",
       "      <td>California</td>\n",
       "      <td>CA</td>\n",
       "      <td>...</td>\n",
       "      <td>Food and Beverages</td>\n",
       "      <td>\\r\\n\\r\\nNew French Brasserie in S.F. Financia...</td>\n",
       "      <td>NaN</td>\n",
       "      <td>0.0</td>\n",
       "      <td>NaN</td>\n",
       "      <td>NaN</td>\n",
       "      <td>Part-Time</td>\n",
       "      <td>NaN</td>\n",
       "      <td>2013-04-12 08:36:36 UTC</td>\n",
       "      <td>2014-08-16 15:35:36 UTC</td>\n",
       "    </tr>\n",
       "    <tr>\n",
       "      <th>2</th>\n",
       "      <td>117</td>\n",
       "      <td>1</td>\n",
       "      <td>open</td>\n",
       "      <td>san-francisco-ca-machka-restaurants-corp-barte...</td>\n",
       "      <td>Bartender @ Machka Restaurants Corp.</td>\n",
       "      <td>Bartender</td>\n",
       "      <td>Machka Restaurants Corp.</td>\n",
       "      <td>San Francisco</td>\n",
       "      <td>California</td>\n",
       "      <td>CA</td>\n",
       "      <td>...</td>\n",
       "      <td>Food and Beverages</td>\n",
       "      <td>We are a popular Mediterranean wine bar and re...</td>\n",
       "      <td>NaN</td>\n",
       "      <td>11.0</td>\n",
       "      <td>NaN</td>\n",
       "      <td>NaN</td>\n",
       "      <td>Part-Time</td>\n",
       "      <td>NaN</td>\n",
       "      <td>2013-07-16 09:34:10 UTC</td>\n",
       "      <td>2014-08-16 15:35:37 UTC</td>\n",
       "    </tr>\n",
       "  </tbody>\n",
       "</table>\n",
       "<p>3 rows × 23 columns</p>\n",
       "</div>"
      ],
      "text/plain": [
       "   Job.ID  Provider Status                                               Slug  \\\n",
       "0     111         1   open                    palo-alto-ca-tacolicious-server   \n",
       "1     113         1   open    san-francisco-ca-claude-lane-kitchen-staff-chef   \n",
       "2     117         1   open  san-francisco-ca-machka-restaurants-corp-barte...   \n",
       "\n",
       "                                  Title            Position  \\\n",
       "0                  Server @ Tacolicious              Server   \n",
       "1      Kitchen Staff/Chef @ Claude Lane  Kitchen Staff/Chef   \n",
       "2  Bartender @ Machka Restaurants Corp.           Bartender   \n",
       "\n",
       "                    Company           City  State.Name State.Code  ...  \\\n",
       "0               Tacolicious      Palo Alto  California         CA  ...   \n",
       "1               Claude Lane  San Francisco  California         CA  ...   \n",
       "2  Machka Restaurants Corp.  San Francisco  California         CA  ...   \n",
       "\n",
       "             Industry                                    Job.Description  \\\n",
       "0  Food and Beverages  Tacolicious' first Palo Alto store just opened...   \n",
       "1  Food and Beverages   \\r\\n\\r\\nNew French Brasserie in S.F. Financia...   \n",
       "2  Food and Beverages  We are a popular Mediterranean wine bar and re...   \n",
       "\n",
       "   Requirements Salary Listing.Start  Listing.End  Employment.Type  \\\n",
       "0           NaN    8.0           NaN          NaN        Part-Time   \n",
       "1           NaN    0.0           NaN          NaN        Part-Time   \n",
       "2           NaN   11.0           NaN          NaN        Part-Time   \n",
       "\n",
       "  Education.Required               Created.At               Updated.At  \n",
       "0                NaN  2013-03-12 02:08:28 UTC  2014-08-16 15:35:36 UTC  \n",
       "1                NaN  2013-04-12 08:36:36 UTC  2014-08-16 15:35:36 UTC  \n",
       "2                NaN  2013-07-16 09:34:10 UTC  2014-08-16 15:35:37 UTC  \n",
       "\n",
       "[3 rows x 23 columns]"
      ]
     },
     "execution_count": 641,
     "metadata": {},
     "output_type": "execute_result"
    }
   ],
   "source": [
    "df=pd.read_csv('Combined_Jobs_Final.csv')\n",
    "df.head(3)"
   ]
  },
  {
   "cell_type": "code",
   "execution_count": 642,
   "id": "6cdd66ad",
   "metadata": {},
   "outputs": [
    {
     "data": {
      "text/plain": [
       "<bound method DataFrame.info of        Job.ID  Provider Status  \\\n",
       "0         111         1   open   \n",
       "1         113         1   open   \n",
       "2         117         1   open   \n",
       "3         121         1   open   \n",
       "4         127         1   open   \n",
       "...       ...       ...    ...   \n",
       "84085      82         1   open   \n",
       "84086      83         1   open   \n",
       "84087      84         1   open   \n",
       "84088      88         1   open   \n",
       "84089      92         1   open   \n",
       "\n",
       "                                                    Slug  \\\n",
       "0                        palo-alto-ca-tacolicious-server   \n",
       "1        san-francisco-ca-claude-lane-kitchen-staff-chef   \n",
       "2      san-francisco-ca-machka-restaurants-corp-barte...   \n",
       "3                      brisbane-ca-teriyaki-house-server   \n",
       "4      los-angeles-ca-rosa-mexicano-sunset-kitchen-st...   \n",
       "...                                                  ...   \n",
       "84085  san-francisco-ca-national-japanese-american-hi...   \n",
       "84086       larkspur-ca-emporio-rulli-kitchen-staff-chef   \n",
       "84087                san-francisco-ca-onigilly-driver-84   \n",
       "84088  san-francisco-ca-machka-restaurants-corp-line-...   \n",
       "84089               san-jose-ca-kazoo-restaurant-cashier   \n",
       "\n",
       "                                                   Title            Position  \\\n",
       "0                                   Server @ Tacolicious              Server   \n",
       "1                       Kitchen Staff/Chef @ Claude Lane  Kitchen Staff/Chef   \n",
       "2                   Bartender @ Machka Restaurants Corp.           Bartender   \n",
       "3                                Server @ Teriyaki House              Server   \n",
       "4            Kitchen Staff/Chef @ Rosa Mexicano - Sunset  Kitchen Staff/Chef   \n",
       "...                                                  ...                 ...   \n",
       "84085  Book Keeper @ National Japanese American Histo...         Book Keeper   \n",
       "84086                 Kitchen Staff/Chef @ Emporio Rulli  Kitchen Staff/Chef   \n",
       "84087                                  Driver @ Onigilly              Driver   \n",
       "84088               Line Cook @ Machka Restaurants Corp.           Line Cook   \n",
       "84089                         Cashier @ Kazoo Restaurant             Cashier   \n",
       "\n",
       "                                             Company           City  \\\n",
       "0                                        Tacolicious      Palo Alto   \n",
       "1                                        Claude Lane  San Francisco   \n",
       "2                           Machka Restaurants Corp.  San Francisco   \n",
       "3                                     Teriyaki House       Brisbane   \n",
       "4                             Rosa Mexicano - Sunset    Los Angeles   \n",
       "...                                              ...            ...   \n",
       "84085  National Japanese American Historical Society  San Francisco   \n",
       "84086                                  Emporio Rulli       Larkspur   \n",
       "84087                                       Onigilly  San Francisco   \n",
       "84088                       Machka Restaurants Corp.  San Francisco   \n",
       "84089                               Kazoo Restaurant       San Jose   \n",
       "\n",
       "       State.Name State.Code  ...               Industry  \\\n",
       "0      California         CA  ...     Food and Beverages   \n",
       "1      California         CA  ...     Food and Beverages   \n",
       "2      California         CA  ...     Food and Beverages   \n",
       "3      California         CA  ...     Food and Beverages   \n",
       "4      California         CA  ...     Food and Beverages   \n",
       "...           ...        ...  ...                    ...   \n",
       "84085  California         CA  ...  Office Administration   \n",
       "84086  California         CA  ...     Food and Beverages   \n",
       "84087  California         CA  ...     Food and Beverages   \n",
       "84088  California         CA  ...     Food and Beverages   \n",
       "84089  California         CA  ...     Food and Beverages   \n",
       "\n",
       "                                         Job.Description  Requirements Salary  \\\n",
       "0      Tacolicious' first Palo Alto store just opened...           NaN   8.00   \n",
       "1       \\r\\n\\r\\nNew French Brasserie in S.F. Financia...           NaN   0.00   \n",
       "2      We are a popular Mediterranean wine bar and re...           NaN  11.00   \n",
       "3       ● Serve food/drinks to customers in a profess...           NaN  10.55   \n",
       "4      Located at the heart of Hollywood, we are one ...           NaN  10.55   \n",
       "...                                                  ...           ...    ...   \n",
       "84085  NJAHS stands for National Japanese American Hi...           NaN  20.00   \n",
       "84086  Weekend Brunch Line Cook \\r\\n● Other shifts ma...           NaN  10.55   \n",
       "84087  ONIGILLY (Japanese rice ball wraps) seeks outg...           NaN  11.00   \n",
       "84088  We are a popular Mediterranean restaurant in F...           NaN  13.00   \n",
       "84089   We are looking for a cashier! \\r\\n\\r\\n ● Take...           NaN  10.00   \n",
       "\n",
       "      Listing.Start  Listing.End  Employment.Type Education.Required  \\\n",
       "0               NaN          NaN        Part-Time                NaN   \n",
       "1               NaN          NaN        Part-Time                NaN   \n",
       "2               NaN          NaN        Part-Time                NaN   \n",
       "3               NaN          NaN        Part-Time                NaN   \n",
       "4               NaN          NaN        Part-Time                NaN   \n",
       "...             ...          ...              ...                ...   \n",
       "84085           NaN          NaN        Part-Time                NaN   \n",
       "84086           NaN          NaN        Part-Time                NaN   \n",
       "84087           NaN          NaN        Part-Time                NaN   \n",
       "84088           NaN          NaN        Part-Time                NaN   \n",
       "84089           NaN          NaN        Part-Time                NaN   \n",
       "\n",
       "                    Created.At               Updated.At  \n",
       "0      2013-03-12 02:08:28 UTC  2014-08-16 15:35:36 UTC  \n",
       "1      2013-04-12 08:36:36 UTC  2014-08-16 15:35:36 UTC  \n",
       "2      2013-07-16 09:34:10 UTC  2014-08-16 15:35:37 UTC  \n",
       "3      2013-09-04 15:40:30 UTC  2014-08-16 15:35:38 UTC  \n",
       "4      2013-07-17 15:26:18 UTC  2014-08-16 15:35:40 UTC  \n",
       "...                        ...                      ...  \n",
       "84085  2013-03-20 06:35:01 UTC  2014-08-16 15:35:27 UTC  \n",
       "84086  2013-03-20 08:06:43 UTC  2014-08-16 15:35:27 UTC  \n",
       "84087  2013-03-12 01:47:13 UTC  2014-08-16 15:35:27 UTC  \n",
       "84088  2013-07-16 08:55:22 UTC  2014-08-16 15:35:28 UTC  \n",
       "84089  2013-03-27 09:35:04 UTC  2014-08-16 15:35:30 UTC  \n",
       "\n",
       "[84090 rows x 23 columns]>"
      ]
     },
     "execution_count": 642,
     "metadata": {},
     "output_type": "execute_result"
    }
   ],
   "source": [
    "df.info"
   ]
  },
  {
   "cell_type": "code",
   "execution_count": 643,
   "id": "c511da6c",
   "metadata": {},
   "outputs": [],
   "source": [
    "df=df[['Title', 'Job.Description']]"
   ]
  },
  {
   "cell_type": "code",
   "execution_count": 644,
   "id": "6e8270c2",
   "metadata": {},
   "outputs": [
    {
     "data": {
      "text/html": [
       "<div>\n",
       "<style scoped>\n",
       "    .dataframe tbody tr th:only-of-type {\n",
       "        vertical-align: middle;\n",
       "    }\n",
       "\n",
       "    .dataframe tbody tr th {\n",
       "        vertical-align: top;\n",
       "    }\n",
       "\n",
       "    .dataframe thead th {\n",
       "        text-align: right;\n",
       "    }\n",
       "</style>\n",
       "<table border=\"1\" class=\"dataframe\">\n",
       "  <thead>\n",
       "    <tr style=\"text-align: right;\">\n",
       "      <th></th>\n",
       "      <th>Title</th>\n",
       "      <th>Job.Description</th>\n",
       "    </tr>\n",
       "  </thead>\n",
       "  <tbody>\n",
       "    <tr>\n",
       "      <th>0</th>\n",
       "      <td>Server @ Tacolicious</td>\n",
       "      <td>Tacolicious' first Palo Alto store just opened...</td>\n",
       "    </tr>\n",
       "    <tr>\n",
       "      <th>1</th>\n",
       "      <td>Kitchen Staff/Chef @ Claude Lane</td>\n",
       "      <td>\\r\\n\\r\\nNew French Brasserie in S.F. Financia...</td>\n",
       "    </tr>\n",
       "    <tr>\n",
       "      <th>2</th>\n",
       "      <td>Bartender @ Machka Restaurants Corp.</td>\n",
       "      <td>We are a popular Mediterranean wine bar and re...</td>\n",
       "    </tr>\n",
       "  </tbody>\n",
       "</table>\n",
       "</div>"
      ],
      "text/plain": [
       "                                  Title  \\\n",
       "0                  Server @ Tacolicious   \n",
       "1      Kitchen Staff/Chef @ Claude Lane   \n",
       "2  Bartender @ Machka Restaurants Corp.   \n",
       "\n",
       "                                     Job.Description  \n",
       "0  Tacolicious' first Palo Alto store just opened...  \n",
       "1   \\r\\n\\r\\nNew French Brasserie in S.F. Financia...  \n",
       "2  We are a popular Mediterranean wine bar and re...  "
      ]
     },
     "execution_count": 644,
     "metadata": {},
     "output_type": "execute_result"
    }
   ],
   "source": [
    "df.head(3)"
   ]
  },
  {
   "cell_type": "code",
   "execution_count": 645,
   "id": "68b9fe7b",
   "metadata": {},
   "outputs": [
    {
     "data": {
      "text/plain": [
       "' \\r\\n\\r\\nNew French Brasserie in S.F. Financial District Seeks Chef\\r\\nWe are seeking an energetic, dynamic chef to take charge and grow with our company. Our ideal candidate is a motivated self-starter, has a great work ethic and is ready for the challenge of building their own team with executive support. \\r\\n\\r\\nThis position is a perfect fit for a talented chef ready to take the next step, someone who can multi task in a high volume kitchen and has exceptional organizational skills. Position requirements are experience with French cuisine, a minimum of 5 years as a sous chef in high volume, full service restaurant. He or she must be a team player, leading by example and working side by side with other members of the team. \\r\\n\\r\\nComputer and management skills are a must, as are experience in ordering, inventory and cost control. The right candidate will have previously demonstrated an understanding of leadership and accountability, and an infectious, energetic approach to problem solving and facing challenges. \\r\\n\\r\\nWe are an equal opportunity employer. Qualified applicants are considered for employment without regard to age, race, religion, sex, national origin, sexual orientation, disability, or veteran status. \\r\\n'"
      ]
     },
     "execution_count": 645,
     "metadata": {},
     "output_type": "execute_result"
    }
   ],
   "source": [
    "df['Job.Description'][1]"
   ]
  },
  {
   "cell_type": "code",
   "execution_count": 646,
   "id": "d98ca8c6",
   "metadata": {},
   "outputs": [],
   "source": [
    "df=df.sample(n=10000, random_state=42)"
   ]
  },
  {
   "cell_type": "code",
   "execution_count": 647,
   "id": "372fbda8",
   "metadata": {},
   "outputs": [],
   "source": [
    "df['Tags']=df['Title']+df['Job.Description']"
   ]
  },
  {
   "cell_type": "code",
   "execution_count": 648,
   "id": "cf3b794c",
   "metadata": {},
   "outputs": [
    {
     "data": {
      "text/html": [
       "<div>\n",
       "<style scoped>\n",
       "    .dataframe tbody tr th:only-of-type {\n",
       "        vertical-align: middle;\n",
       "    }\n",
       "\n",
       "    .dataframe tbody tr th {\n",
       "        vertical-align: top;\n",
       "    }\n",
       "\n",
       "    .dataframe thead th {\n",
       "        text-align: right;\n",
       "    }\n",
       "</style>\n",
       "<table border=\"1\" class=\"dataframe\">\n",
       "  <thead>\n",
       "    <tr style=\"text-align: right;\">\n",
       "      <th></th>\n",
       "      <th>Title</th>\n",
       "      <th>Job.Description</th>\n",
       "      <th>Tags</th>\n",
       "    </tr>\n",
       "  </thead>\n",
       "  <tbody>\n",
       "    <tr>\n",
       "      <th>72238</th>\n",
       "      <td>Housekeeping and Laundry Assistant @ The Evang...</td>\n",
       "      <td>NaN</td>\n",
       "      <td>NaN</td>\n",
       "    </tr>\n",
       "    <tr>\n",
       "      <th>10825</th>\n",
       "      <td>Housekeeping and Laundry Assistant</td>\n",
       "      <td>NaN</td>\n",
       "      <td>NaN</td>\n",
       "    </tr>\n",
       "    <tr>\n",
       "      <th>32960</th>\n",
       "      <td>Customer Engagement Coordinator @ The Evangeli...</td>\n",
       "      <td>NaN</td>\n",
       "      <td>NaN</td>\n",
       "    </tr>\n",
       "    <tr>\n",
       "      <th>74717</th>\n",
       "      <td>Inside Sales Representative @ PROFESSIONAL EMP...</td>\n",
       "      <td>NaN</td>\n",
       "      <td>NaN</td>\n",
       "    </tr>\n",
       "    <tr>\n",
       "      <th>24368</th>\n",
       "      <td>Certified Nursing Assistant / Certified Medica...</td>\n",
       "      <td>NaN</td>\n",
       "      <td>NaN</td>\n",
       "    </tr>\n",
       "    <tr>\n",
       "      <th>44399</th>\n",
       "      <td>Staff Development Coordinator/Infection Preven...</td>\n",
       "      <td>NaN</td>\n",
       "      <td>NaN</td>\n",
       "    </tr>\n",
       "    <tr>\n",
       "      <th>35033</th>\n",
       "      <td>Charge Nurse - RN / LPN @ The Evangelical Luth...</td>\n",
       "      <td>NaN</td>\n",
       "      <td>NaN</td>\n",
       "    </tr>\n",
       "  </tbody>\n",
       "</table>\n",
       "</div>"
      ],
      "text/plain": [
       "                                                   Title Job.Description Tags\n",
       "72238  Housekeeping and Laundry Assistant @ The Evang...             NaN  NaN\n",
       "10825                 Housekeeping and Laundry Assistant             NaN  NaN\n",
       "32960  Customer Engagement Coordinator @ The Evangeli...             NaN  NaN\n",
       "74717  Inside Sales Representative @ PROFESSIONAL EMP...             NaN  NaN\n",
       "24368  Certified Nursing Assistant / Certified Medica...             NaN  NaN\n",
       "44399  Staff Development Coordinator/Infection Preven...             NaN  NaN\n",
       "35033  Charge Nurse - RN / LPN @ The Evangelical Luth...             NaN  NaN"
      ]
     },
     "execution_count": 648,
     "metadata": {},
     "output_type": "execute_result"
    }
   ],
   "source": [
    "df[df['Tags'].isnull()]"
   ]
  },
  {
   "cell_type": "code",
   "execution_count": 649,
   "id": "b28f21a8",
   "metadata": {},
   "outputs": [
    {
     "data": {
      "text/plain": [
       "7"
      ]
     },
     "execution_count": 649,
     "metadata": {},
     "output_type": "execute_result"
    }
   ],
   "source": [
    "df['Job.Description'].isnull().sum()"
   ]
  },
  {
   "cell_type": "code",
   "execution_count": 650,
   "id": "3009b9a5",
   "metadata": {},
   "outputs": [
    {
     "data": {
      "text/plain": [
       "7"
      ]
     },
     "execution_count": 650,
     "metadata": {},
     "output_type": "execute_result"
    }
   ],
   "source": [
    "df['Tags'].isnull().sum()"
   ]
  },
  {
   "cell_type": "code",
   "execution_count": 651,
   "id": "4e0e34c7",
   "metadata": {},
   "outputs": [],
   "source": [
    "df = df.dropna(subset=['Tags'])"
   ]
  },
  {
   "cell_type": "code",
   "execution_count": 652,
   "id": "edcb2f3e",
   "metadata": {},
   "outputs": [
    {
     "data": {
      "text/plain": [
       "0"
      ]
     },
     "execution_count": 652,
     "metadata": {},
     "output_type": "execute_result"
    }
   ],
   "source": [
    "df['Tags'].isnull().sum()"
   ]
  },
  {
   "cell_type": "code",
   "execution_count": 653,
   "id": "fb923112",
   "metadata": {},
   "outputs": [],
   "source": [
    "df['Tags']=df['Tags'].apply(lambda x:x.lower())"
   ]
  },
  {
   "cell_type": "code",
   "execution_count": 654,
   "id": "277cb15d",
   "metadata": {
    "scrolled": true
   },
   "outputs": [
    {
     "data": {
      "text/html": [
       "<div>\n",
       "<style scoped>\n",
       "    .dataframe tbody tr th:only-of-type {\n",
       "        vertical-align: middle;\n",
       "    }\n",
       "\n",
       "    .dataframe tbody tr th {\n",
       "        vertical-align: top;\n",
       "    }\n",
       "\n",
       "    .dataframe thead th {\n",
       "        text-align: right;\n",
       "    }\n",
       "</style>\n",
       "<table border=\"1\" class=\"dataframe\">\n",
       "  <thead>\n",
       "    <tr style=\"text-align: right;\">\n",
       "      <th></th>\n",
       "      <th>Title</th>\n",
       "      <th>Job.Description</th>\n",
       "      <th>Tags</th>\n",
       "    </tr>\n",
       "  </thead>\n",
       "  <tbody>\n",
       "    <tr>\n",
       "      <th>64119</th>\n",
       "      <td>Site Director @ Knowledge Universe</td>\n",
       "      <td>Job Summary Knowledge Universe (KU) Site Direc...</td>\n",
       "      <td>site director @ knowledge universejob summary ...</td>\n",
       "    </tr>\n",
       "    <tr>\n",
       "      <th>35827</th>\n",
       "      <td>Administrative Assistant @ OfficeTeam</td>\n",
       "      <td>Ref ID: 03110-118480Classification: Secretary/...</td>\n",
       "      <td>administrative assistant @ officeteamref id: 0...</td>\n",
       "    </tr>\n",
       "    <tr>\n",
       "      <th>72100</th>\n",
       "      <td>Account Manager @ CHI Payment Systems</td>\n",
       "      <td>If you&amp;rsquo;re energetic, motivated, hardwork...</td>\n",
       "      <td>account manager @ chi payment systemsif you&amp;rs...</td>\n",
       "    </tr>\n",
       "    <tr>\n",
       "      <th>46355</th>\n",
       "      <td>Outside Wholesale Sales Rep (PART-TIME) @ Rive...</td>\n",
       "      <td>OUTSIDE WHOLESALE SALES REP\\r\\n\\r\\nJob Respons...</td>\n",
       "      <td>outside wholesale sales rep (part-time) @ rive...</td>\n",
       "    </tr>\n",
       "    <tr>\n",
       "      <th>34166</th>\n",
       "      <td>Customer Service Rep- Help People with Hearing...</td>\n",
       "      <td>CaptionCall® Communication Assistant    Imagi...</td>\n",
       "      <td>customer service rep- help people with hearing...</td>\n",
       "    </tr>\n",
       "  </tbody>\n",
       "</table>\n",
       "</div>"
      ],
      "text/plain": [
       "                                                   Title  \\\n",
       "64119                 Site Director @ Knowledge Universe   \n",
       "35827              Administrative Assistant @ OfficeTeam   \n",
       "72100              Account Manager @ CHI Payment Systems   \n",
       "46355  Outside Wholesale Sales Rep (PART-TIME) @ Rive...   \n",
       "34166  Customer Service Rep- Help People with Hearing...   \n",
       "\n",
       "                                         Job.Description  \\\n",
       "64119  Job Summary Knowledge Universe (KU) Site Direc...   \n",
       "35827  Ref ID: 03110-118480Classification: Secretary/...   \n",
       "72100  If you&rsquo;re energetic, motivated, hardwork...   \n",
       "46355  OUTSIDE WHOLESALE SALES REP\\r\\n\\r\\nJob Respons...   \n",
       "34166   CaptionCall® Communication Assistant    Imagi...   \n",
       "\n",
       "                                                    Tags  \n",
       "64119  site director @ knowledge universejob summary ...  \n",
       "35827  administrative assistant @ officeteamref id: 0...  \n",
       "72100  account manager @ chi payment systemsif you&rs...  \n",
       "46355  outside wholesale sales rep (part-time) @ rive...  \n",
       "34166  customer service rep- help people with hearing...  "
      ]
     },
     "execution_count": 654,
     "metadata": {},
     "output_type": "execute_result"
    }
   ],
   "source": [
    "df.head(5)"
   ]
  },
  {
   "cell_type": "code",
   "execution_count": 655,
   "id": "cea73bc1",
   "metadata": {},
   "outputs": [
    {
     "name": "stdout",
     "output_type": "stream",
     "text": [
      "Requirement already satisfied: nltk in /Users/sharanyabasu/anaconda3/lib/python3.11/site-packages (3.8.1)\n",
      "Requirement already satisfied: click in /Users/sharanyabasu/anaconda3/lib/python3.11/site-packages (from nltk) (8.0.4)\n",
      "Requirement already satisfied: joblib in /Users/sharanyabasu/anaconda3/lib/python3.11/site-packages (from nltk) (1.2.0)\n",
      "Requirement already satisfied: regex>=2021.8.3 in /Users/sharanyabasu/anaconda3/lib/python3.11/site-packages (from nltk) (2022.7.9)\n",
      "Requirement already satisfied: tqdm in /Users/sharanyabasu/anaconda3/lib/python3.11/site-packages (from nltk) (4.65.0)\n"
     ]
    }
   ],
   "source": [
    "!pip install nltk"
   ]
  },
  {
   "cell_type": "code",
   "execution_count": 656,
   "id": "39045fcb",
   "metadata": {},
   "outputs": [
    {
     "name": "stderr",
     "output_type": "stream",
     "text": [
      "[nltk_data] Downloading package punkt to\n",
      "[nltk_data]     /Users/sharanyabasu/nltk_data...\n",
      "[nltk_data]   Package punkt is already up-to-date!\n",
      "[nltk_data] Downloading package stopwords to\n",
      "[nltk_data]     /Users/sharanyabasu/nltk_data...\n",
      "[nltk_data]   Package stopwords is already up-to-date!\n"
     ]
    },
    {
     "data": {
      "text/plain": [
       "True"
      ]
     },
     "execution_count": 656,
     "metadata": {},
     "output_type": "execute_result"
    }
   ],
   "source": [
    "import nltk\n",
    "nltk.download('punkt')\n",
    "nltk.download('stopwords')"
   ]
  },
  {
   "cell_type": "code",
   "execution_count": 657,
   "id": "84cce32e",
   "metadata": {},
   "outputs": [],
   "source": [
    "nltk_data_path = \"/content/nltk_data\"\n",
    "nltk.data.path.append(nltk_data_path)"
   ]
  },
  {
   "cell_type": "code",
   "execution_count": 658,
   "id": "c0532fa8",
   "metadata": {},
   "outputs": [
    {
     "name": "stderr",
     "output_type": "stream",
     "text": [
      "[nltk_data] Downloading package punkt to\n",
      "[nltk_data]     /Users/sharanyabasu/nltk_data...\n",
      "[nltk_data]   Package punkt is already up-to-date!\n",
      "[nltk_data] Downloading package stopwords to\n",
      "[nltk_data]     /Users/sharanyabasu/nltk_data...\n",
      "[nltk_data]   Package stopwords is already up-to-date!\n",
      "[nltk_data] Downloading package wordnet to\n",
      "[nltk_data]     /Users/sharanyabasu/nltk_data...\n",
      "[nltk_data]   Package wordnet is already up-to-date!\n"
     ]
    }
   ],
   "source": [
    "import nltk\n",
    "nltk.download('punkt')\n",
    "nltk.download('stopwords')\n",
    "nltk.download('wordnet')\n",
    "\n",
    "from nltk.stem import PorterStemmer\n",
    "from nltk.corpus import stopwords\n",
    "from nltk.tokenize import word_tokenize\n",
    "import re \n",
    "\n",
    "ps = PorterStemmer()"
   ]
  },
  {
   "cell_type": "code",
   "execution_count": 659,
   "id": "ae0f9963",
   "metadata": {},
   "outputs": [],
   "source": [
    "def clean(text):\n",
    "    cleaned_text = re.sub(r'[^a-zA-Z0-9\\s]', '', text)\n",
    "    tokens = nltk.word_tokenize(cleaned_text.lower())\n",
    "    return \" \".join(tokens)"
   ]
  },
  {
   "cell_type": "code",
   "execution_count": 660,
   "id": "3a5a6c2d",
   "metadata": {},
   "outputs": [
    {
     "data": {
      "text/plain": [
       "'this has 84 digits a loving lover driving actor actors'"
      ]
     },
     "execution_count": 660,
     "metadata": {},
     "output_type": "execute_result"
    }
   ],
   "source": [
    "clean('this has 84 digits a &%$@ loving lover driving actor actors ')"
   ]
  },
  {
   "cell_type": "code",
   "execution_count": 661,
   "id": "b56371ea",
   "metadata": {},
   "outputs": [
    {
     "data": {
      "text/plain": [
       "'hello 78373 playing player plays 7 5 3'"
      ]
     },
     "execution_count": 661,
     "metadata": {},
     "output_type": "execute_result"
    }
   ],
   "source": [
    "clean('hello 78373!@#$ playing player plays 7 5 3 @')"
   ]
  },
  {
   "cell_type": "code",
   "execution_count": 662,
   "id": "e4a40b12",
   "metadata": {},
   "outputs": [
    {
     "data": {
      "text/plain": [
       "(9993, 3)"
      ]
     },
     "execution_count": 662,
     "metadata": {},
     "output_type": "execute_result"
    }
   ],
   "source": [
    "df.shape"
   ]
  },
  {
   "cell_type": "code",
   "execution_count": 663,
   "id": "fc66707f",
   "metadata": {},
   "outputs": [
    {
     "name": "stdout",
     "output_type": "stream",
     "text": [
      "/content/nltk_data\n"
     ]
    }
   ],
   "source": [
    "print(nltk_data_path)"
   ]
  },
  {
   "cell_type": "code",
   "execution_count": 675,
   "id": "1dcf215d",
   "metadata": {},
   "outputs": [],
   "source": [
    "df['Tags']=df['Tags'].astype(str).apply(lambda x:clean(x))\n",
    "df['Title']=df['Title'].astype(str).apply(lambda x:clean(x))\n",
    "df['Job.Description']=df['Job.Description'].astype(str).apply(lambda x:clean(x))"
   ]
  },
  {
   "cell_type": "code",
   "execution_count": 676,
   "id": "8fb8dd22",
   "metadata": {},
   "outputs": [
    {
     "data": {
      "text/plain": [
       "64119                     site director knowledge universe\n",
       "35827                  administrative assistant officeteam\n",
       "72100                  account manager chi payment systems\n",
       "46355    outside wholesale sales rep parttime river fro...\n",
       "34166    customer service rep help people with hearing ...\n",
       "                               ...                        \n",
       "9255                      lifeguard merritt athletic clubs\n",
       "460             customer service representative officeteam\n",
       "25495      sales associate parttime ethan allen global inc\n",
       "38194       part time retail merchandiser driveline retail\n",
       "51620      food services worker providence health services\n",
       "Name: Title, Length: 9993, dtype: object"
      ]
     },
     "execution_count": 676,
     "metadata": {},
     "output_type": "execute_result"
    }
   ],
   "source": [
    "df['Title']"
   ]
  },
  {
   "cell_type": "code",
   "execution_count": 677,
   "id": "d1b25fc9",
   "metadata": {},
   "outputs": [
    {
     "data": {
      "text/plain": [
       "64119    job summary knowledge universe ku site directo...\n",
       "35827    ref id 03110118480classification secretaryadmi...\n",
       "72100    if yoursquore energetic motivated hardworking ...\n",
       "46355    outside wholesale sales rep job responsibiliti...\n",
       "34166    captioncall communication assistant imagine li...\n",
       "                               ...                        \n",
       "9255     we are looking for motivated and reliablenbspl...\n",
       "460      ref id 01340121281classification customer serv...\n",
       "25495    general objectivesnbspnbspnbspnbspnbsp nbspnbs...\n",
       "38194    driveline is currently seeking motivated and c...\n",
       "51620    providence is calling a 08 fte day shift food ...\n",
       "Name: Job.Description, Length: 9993, dtype: object"
      ]
     },
     "execution_count": 677,
     "metadata": {},
     "output_type": "execute_result"
    }
   ],
   "source": [
    "df['Job.Description']"
   ]
  },
  {
   "cell_type": "code",
   "execution_count": 678,
   "id": "cd56b984",
   "metadata": {
    "scrolled": true
   },
   "outputs": [
    {
     "data": {
      "text/html": [
       "<div>\n",
       "<style scoped>\n",
       "    .dataframe tbody tr th:only-of-type {\n",
       "        vertical-align: middle;\n",
       "    }\n",
       "\n",
       "    .dataframe tbody tr th {\n",
       "        vertical-align: top;\n",
       "    }\n",
       "\n",
       "    .dataframe thead th {\n",
       "        text-align: right;\n",
       "    }\n",
       "</style>\n",
       "<table border=\"1\" class=\"dataframe\">\n",
       "  <thead>\n",
       "    <tr style=\"text-align: right;\">\n",
       "      <th></th>\n",
       "      <th>Title</th>\n",
       "      <th>Job.Description</th>\n",
       "      <th>Tags</th>\n",
       "    </tr>\n",
       "  </thead>\n",
       "  <tbody>\n",
       "    <tr>\n",
       "      <th>64119</th>\n",
       "      <td>site director knowledge universe</td>\n",
       "      <td>job summary knowledge universe ku site directo...</td>\n",
       "      <td>site director knowledge universejob summary kn...</td>\n",
       "    </tr>\n",
       "    <tr>\n",
       "      <th>35827</th>\n",
       "      <td>administrative assistant officeteam</td>\n",
       "      <td>ref id 03110118480classification secretaryadmi...</td>\n",
       "      <td>administrative assistant officeteamref id 0311...</td>\n",
       "    </tr>\n",
       "    <tr>\n",
       "      <th>72100</th>\n",
       "      <td>account manager chi payment systems</td>\n",
       "      <td>if yoursquore energetic motivated hardworking ...</td>\n",
       "      <td>account manager chi payment systemsif yoursquo...</td>\n",
       "    </tr>\n",
       "  </tbody>\n",
       "</table>\n",
       "</div>"
      ],
      "text/plain": [
       "                                     Title  \\\n",
       "64119     site director knowledge universe   \n",
       "35827  administrative assistant officeteam   \n",
       "72100  account manager chi payment systems   \n",
       "\n",
       "                                         Job.Description  \\\n",
       "64119  job summary knowledge universe ku site directo...   \n",
       "35827  ref id 03110118480classification secretaryadmi...   \n",
       "72100  if yoursquore energetic motivated hardworking ...   \n",
       "\n",
       "                                                    Tags  \n",
       "64119  site director knowledge universejob summary kn...  \n",
       "35827  administrative assistant officeteamref id 0311...  \n",
       "72100  account manager chi payment systemsif yoursquo...  "
      ]
     },
     "execution_count": 678,
     "metadata": {},
     "output_type": "execute_result"
    }
   ],
   "source": [
    "df.head(3)"
   ]
  },
  {
   "cell_type": "code",
   "execution_count": 679,
   "id": "e68dc164",
   "metadata": {},
   "outputs": [],
   "source": [
    "from sklearn.feature_extraction.text import TfidfVectorizer \n",
    "from sklearn.metrics.pairwise import cosine_similarity"
   ]
  },
  {
   "cell_type": "code",
   "execution_count": 680,
   "id": "ea7036b7",
   "metadata": {},
   "outputs": [],
   "source": [
    "tfidf=TfidfVectorizer()\n",
    "matrix=tfidf.fit_transform(df['Tags'])\n",
    "similarity=cosine_similarity(matrix)"
   ]
  },
  {
   "cell_type": "code",
   "execution_count": 681,
   "id": "f9eb863e",
   "metadata": {},
   "outputs": [
    {
     "data": {
      "text/plain": [
       "array([[1.        , 0.07859715, 0.09979852, ..., 0.10534465, 0.06324877,\n",
       "        0.06088825],\n",
       "       [0.07859715, 1.        , 0.0785761 , ..., 0.06503035, 0.06273299,\n",
       "        0.04259881],\n",
       "       [0.09979852, 0.0785761 , 1.        , ..., 0.09276374, 0.10042046,\n",
       "        0.04942201],\n",
       "       ...,\n",
       "       [0.10534465, 0.06503035, 0.09276374, ..., 1.        , 0.08165096,\n",
       "        0.07540826],\n",
       "       [0.06324877, 0.06273299, 0.10042046, ..., 0.08165096, 1.        ,\n",
       "        0.04638901],\n",
       "       [0.06088825, 0.04259881, 0.04942201, ..., 0.07540826, 0.04638901,\n",
       "        1.        ]])"
      ]
     },
     "execution_count": 681,
     "metadata": {},
     "output_type": "execute_result"
    }
   ],
   "source": [
    "similarity"
   ]
  },
  {
   "cell_type": "code",
   "execution_count": 682,
   "id": "cf782c50",
   "metadata": {},
   "outputs": [],
   "source": [
    "def recommend_job(title):\n",
    "    idx=df[df['Title']==title].index[0]\n",
    "    idx=df.index.get_loc(idx)\n",
    "    distances = sorted(list(enumerate(similarity[idx])), reverse=True, key=lambda x: x[1])[1:20]\n",
    "    \n",
    "    for i in distances:\n",
    "        print(df.iloc[i[0]].Title)"
   ]
  },
  {
   "cell_type": "code",
   "execution_count": 683,
   "id": "7eb70e26",
   "metadata": {},
   "outputs": [
    {
     "data": {
      "text/plain": [
       "64119                     site director knowledge universe\n",
       "35827                  administrative assistant officeteam\n",
       "72100                  account manager chi payment systems\n",
       "46355    outside wholesale sales rep parttime river fro...\n",
       "34166    customer service rep help people with hearing ...\n",
       "                               ...                        \n",
       "9255                      lifeguard merritt athletic clubs\n",
       "460             customer service representative officeteam\n",
       "25495      sales associate parttime ethan allen global inc\n",
       "38194       part time retail merchandiser driveline retail\n",
       "51620      food services worker providence health services\n",
       "Name: Title, Length: 9993, dtype: object"
      ]
     },
     "execution_count": 683,
     "metadata": {},
     "output_type": "execute_result"
    }
   ],
   "source": [
    "df['Title']"
   ]
  },
  {
   "cell_type": "code",
   "execution_count": 686,
   "id": "4a7eda52",
   "metadata": {},
   "outputs": [
    {
     "name": "stdout",
     "output_type": "stream",
     "text": [
      "food services worker swedish health\n",
      "food services worker swedish health\n",
      "patient scheduler providence health services\n",
      "distribution technician providence health services\n",
      "dietary aide select specialty hospital\n",
      "certified nursing assistant providence health services\n",
      "certified nursing assistant medical flex unit providence health services\n",
      "certified nursing assistant neurology 06 fte evenings providence health services\n",
      "registered nurse labor deliverypostpartum 08 fte evenings providence health services\n",
      "certified nursing assistant close observation unit providence health services\n",
      "registered nurse ortho spine providence health services\n",
      "patient services representative greater everett area float pool 25 fte providence health services\n",
      "dietary aide food service worker lorien health systems\n",
      "dietary aide food service worker lorien health systems\n",
      "registered nurse medicalsurgical providence health services\n",
      "social worker providence health services\n",
      "radiologic technologist 06 providence health services\n",
      "registered nurse acute rehab 6 fte night shift providence health services\n",
      "registered nurse administrative supervisor 60fte day shift providence health services\n"
     ]
    }
   ],
   "source": [
    "recommend_job('food services worker providence health services')"
   ]
  },
  {
   "cell_type": "code",
   "execution_count": 687,
   "id": "83ec6043",
   "metadata": {},
   "outputs": [
    {
     "name": "stdout",
     "output_type": "stream",
     "text": [
      "administrative assistant officeteam\n",
      "jr administrative assistant needed for growing company officeteam\n",
      "administrative assistant officeteam\n",
      "office assistant officeteam\n",
      "administrative assistant officeteam\n",
      "part time administrative assistant officeteam\n",
      "administrative assistant officeteam\n",
      "administrative assistant officeteam\n",
      "administrative assistant officeteam\n",
      "administrative assistant officeteam\n",
      "are you an awesome administrative assistant officeteam\n",
      "administrative assistant needed in brentwood tn officeteam\n",
      "administrative assistant officeteam\n",
      "seeking a strong administrative assistant officeteam\n",
      "administrative assistant officeteam\n",
      "administrative assistant officeteam\n",
      "administrative assistant officeteam\n",
      "administrative assistant officeteam\n",
      "administrative assistant officeteam\n"
     ]
    }
   ],
   "source": [
    "recommend_job('administrative assistant officeteam')"
   ]
  },
  {
   "cell_type": "code",
   "execution_count": 688,
   "id": "cf3e97eb",
   "metadata": {},
   "outputs": [
    {
     "name": "stdout",
     "output_type": "stream",
     "text": [
      "food services worker swedish health\n",
      "food services worker swedish health\n",
      "patient scheduler providence health services\n",
      "distribution technician providence health services\n",
      "dietary aide select specialty hospital\n",
      "certified nursing assistant providence health services\n",
      "certified nursing assistant medical flex unit providence health services\n",
      "certified nursing assistant neurology 06 fte evenings providence health services\n",
      "registered nurse labor deliverypostpartum 08 fte evenings providence health services\n",
      "certified nursing assistant close observation unit providence health services\n",
      "registered nurse ortho spine providence health services\n",
      "patient services representative greater everett area float pool 25 fte providence health services\n",
      "dietary aide food service worker lorien health systems\n",
      "dietary aide food service worker lorien health systems\n",
      "registered nurse medicalsurgical providence health services\n",
      "social worker providence health services\n",
      "radiologic technologist 06 providence health services\n",
      "registered nurse acute rehab 6 fte night shift providence health services\n",
      "registered nurse administrative supervisor 60fte day shift providence health services\n"
     ]
    }
   ],
   "source": [
    "recommend_job('food services worker providence health services')"
   ]
  },
  {
   "cell_type": "code",
   "execution_count": null,
   "id": "938d8b29",
   "metadata": {},
   "outputs": [],
   "source": []
  }
 ],
 "metadata": {
  "kernelspec": {
   "display_name": "Python 3 (ipykernel)",
   "language": "python",
   "name": "python3"
  },
  "language_info": {
   "codemirror_mode": {
    "name": "ipython",
    "version": 3
   },
   "file_extension": ".py",
   "mimetype": "text/x-python",
   "name": "python",
   "nbconvert_exporter": "python",
   "pygments_lexer": "ipython3",
   "version": "3.11.5"
  }
 },
 "nbformat": 4,
 "nbformat_minor": 5
}
